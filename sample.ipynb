{
 "cells": [
  {
   "cell_type": "code",
   "execution_count": 1,
   "metadata": {},
   "outputs": [
    {
     "data": {
      "text/plain": [
       "'o what is your name?'"
      ]
     },
     "execution_count": 1,
     "metadata": {},
     "output_type": "execute_result"
    }
   ],
   "source": [
    "sample = 'hello what is your name?'\n",
    "sample[4:]"
   ]
  },
  {
   "cell_type": "code",
   "execution_count": 14,
   "metadata": {},
   "outputs": [
    {
     "name": "stdout",
     "output_type": "stream",
     "text": [
      "src\n"
     ]
    }
   ],
   "source": [
    "directory_path = 'D:\\Python\\MLOPS\\project_1\\src'\n",
    "repository_path = \"D:\\Python\\MLOPS\\project_1\"\n",
    "relative_directory_path = directory_path[len(repository_path) + 1:]\n",
    "print(relative_directory_path)"
   ]
  },
  {
   "cell_type": "code",
   "execution_count": 1,
   "metadata": {},
   "outputs": [],
   "source": [
    "tags = ['1', '10', '2', '3', '4', '5', '6', '7', '8', '9']"
   ]
  },
  {
   "cell_type": "code",
   "execution_count": 2,
   "metadata": {},
   "outputs": [
    {
     "data": {
      "text/plain": [
       "'9'"
      ]
     },
     "execution_count": 2,
     "metadata": {},
     "output_type": "execute_result"
    }
   ],
   "source": [
    "max(tags)"
   ]
  },
  {
   "cell_type": "code",
   "execution_count": 6,
   "metadata": {},
   "outputs": [
    {
     "data": {
      "text/plain": [
       "'d:\\\\Python\\\\MLOPS\\\\project_1'"
      ]
     },
     "execution_count": 6,
     "metadata": {},
     "output_type": "execute_result"
    }
   ],
   "source": [
    "os.getcwd()"
   ]
  },
  {
   "cell_type": "code",
   "execution_count": 13,
   "metadata": {},
   "outputs": [
    {
     "ename": "NameError",
     "evalue": "name 'repo_dir' is not defined",
     "output_type": "error",
     "traceback": [
      "\u001b[1;31m---------------------------------------------------------------------------\u001b[0m",
      "\u001b[1;31mNameError\u001b[0m                                 Traceback (most recent call last)",
      "Cell \u001b[1;32mIn[13], line 1\u001b[0m\n\u001b[1;32m----> 1\u001b[0m relative_directory_path \u001b[38;5;241m=\u001b[39m directory_path[\u001b[38;5;28mlen\u001b[39m(\u001b[43mrepo_dir\u001b[49m) \u001b[38;5;241m+\u001b[39m \u001b[38;5;241m1\u001b[39m:]\n",
      "\u001b[1;31mNameError\u001b[0m: name 'repo_dir' is not defined"
     ]
    }
   ],
   "source": [
    "relative_directory_path = directory_path[len(repository_path) + 1:]"
   ]
  },
  {
   "cell_type": "code",
   "execution_count": 15,
   "metadata": {},
   "outputs": [
    {
     "name": "stdout",
     "output_type": "stream",
     "text": [
      "hello, I am here.\n"
     ]
    }
   ],
   "source": [
    "there = \"here\"\n",
    "sample_text = f\"hello, I am {there}.\"\n",
    "print(sample_text)"
   ]
  },
  {
   "cell_type": "code",
   "execution_count": 3,
   "metadata": {},
   "outputs": [],
   "source": [
    "import os\n",
    "from src.VersionControlUtils.git import GitHelper\n",
    "\n",
    "cwd = os.getcwd()\n",
    "git_helper = GitHelper(repo_dir=cwd, branch='main', remote_name=\"origin\", remote=\"git@github.com:Atulsain7/AWS-Template.git\")"
   ]
  },
  {
   "cell_type": "code",
   "execution_count": 4,
   "metadata": {},
   "outputs": [
    {
     "name": "stdout",
     "output_type": "stream",
     "text": [
      "Error: 'Repo' object is not callable\n"
     ]
    },
    {
     "data": {
      "text/plain": [
       "False"
      ]
     },
     "execution_count": 4,
     "metadata": {},
     "output_type": "execute_result"
    }
   ],
   "source": [
    "git_helper.add_to_gitignore('./env_files')"
   ]
  },
  {
   "cell_type": "code",
   "execution_count": 2,
   "metadata": {},
   "outputs": [],
   "source": [
    "import os\n",
    "from src.CloudUtils.ecr import ECRHelper\n",
    "from src.container.docker_container import DockerHelper\n",
    "\n",
    "cwd = os.getcwd()\n",
    "ecr_helper = ECRHelper(cwd)\n",
    "container_helper = DockerHelper(cwd, './docker')\n",
    "\n",
    "def push_on_ecr(dockerfile_name, image_name, tag, repository_name=None):\n",
    "\tcontainer_helper.build_image(dockerfile_name, image_name, tag)\n",
    "\tecr_helper.create_repository(repository_name)\n",
    "\tecr_helper.push_image(image_name, tag)\n",
    "\treturn True"
   ]
  },
  {
   "cell_type": "code",
   "execution_count": 1,
   "metadata": {},
   "outputs": [
    {
     "name": "stdout",
     "output_type": "stream",
     "text": [
      "Existing Key Pairs:\n",
      "Demo1_Instance_Key_Pair\n"
     ]
    }
   ],
   "source": [
    "import boto3\n",
    "\n",
    "# Create an EC2 client\n",
    "ec2_client = boto3.client('ec2')\n",
    "\n",
    "# Retrieve a list of existing key pairs\n",
    "response = ec2_client.describe_key_pairs()\n",
    "\n",
    "# Extract key pair names from the response\n",
    "key_pair_names = [key_pair['KeyName'] for key_pair in response['KeyPairs']]\n",
    "\n",
    "# Print the list of key pair names\n",
    "print(\"Existing Key Pairs:\")\n",
    "for key_name in key_pair_names:\n",
    "    print(key_name)"
   ]
  },
  {
   "cell_type": "code",
   "execution_count": null,
   "metadata": {},
   "outputs": [],
   "source": []
  }
 ],
 "metadata": {
  "kernelspec": {
   "display_name": "mlflow_demo",
   "language": "python",
   "name": "python3"
  },
  "language_info": {
   "codemirror_mode": {
    "name": "ipython",
    "version": 3
   },
   "file_extension": ".py",
   "mimetype": "text/x-python",
   "name": "python",
   "nbconvert_exporter": "python",
   "pygments_lexer": "ipython3",
   "version": "3.12.2"
  }
 },
 "nbformat": 4,
 "nbformat_minor": 2
}
